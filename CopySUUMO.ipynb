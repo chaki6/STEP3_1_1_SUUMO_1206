{
 "cells": [
  {
   "cell_type": "code",
   "execution_count": 1,
   "metadata": {},
   "outputs": [],
   "source": [
    "#最低限必要な情報:物件名・住所・間取り・家賃・階数\n",
    "#検索エリア：中央区（妻との丸の内散歩が趣味）の2K以上の物件、管理費込みで家賃22万円未満"
   ]
  },
  {
   "cell_type": "code",
   "execution_count": 2,
   "metadata": {},
   "outputs": [],
   "source": [
    "# ライブラリのインポート\n",
    "from bs4 import BeautifulSoup\n",
    "import requests\n",
    "import pandas as pd\n",
    "import time"
   ]
  },
  {
   "cell_type": "code",
   "execution_count": 3,
   "metadata": {},
   "outputs": [
    {
     "name": "stdout",
     "output_type": "stream",
     "text": [
      "ページ 1/5 の情報を取得中...\n",
      "ページ 2/5 の情報を取得中...\n",
      "ページ 3/5 の情報を取得中...\n",
      "ページ 4/5 の情報を取得中...\n",
      "ページ 5/5 の情報を取得中...\n"
     ]
    }
   ],
   "source": [
    "# URLの設定\n",
    "base_url = \"https://suumo.jp/jj/chintai/ichiran/FR301FC001/?ar=030&bs=040&pc=30&smk=&po1=25&po2=99&shkr1=03&shkr2=03&shkr3=03&shkr4=03&sc=13102&ta=13&cb=0.0&ct=22.0&md=05&md=06&md=07&md=08&md=09&md=10&md=11&md=12&md=13&md=14&ts=1&et=9999999&mb=0&mt=9999999&cn=9999999&fw2={}\"\n",
    "\n",
    "# 初期ページへのリクエストを送信して総ページ数を取得する\n",
    "response = requests.get(base_url.format(1))\n",
    "#取得したHTMLを'BeautifulSoup'で解析する\n",
    "soup_total_page = BeautifulSoup(response.text, 'html.parser')\n",
    "\n",
    "#最後のPage数を取得する\n",
    "total_page = int(soup_total_page.find('ol', class_='pagination-parts').find_all('li')[-1].text)\n",
    "\n",
    "# データ収集用のリスト\n",
    "data_list = []\n",
    "\n",
    "# 各ページをループ処理\n",
    "for page in range(1, total_page + 1):\n",
    "    # 各ページのURLを生成\n",
    "    target_url = base_url.format(page)\n",
    "    # target_urlへのアクセス結果を、変数responseに格納\n",
    "    response = requests.get(target_url)\n",
    "    # 負荷を軽減するために1秒スリープ\n",
    "    time.sleep(1)\n",
    "    # 現在のページ数と最終ページ数を表示\n",
    "    print(f\"ページ {page}/{total_page} の情報を取得中...\")\n",
    "    # ステータスコードが200以外の場合、ループを終了\n",
    "    if response.status_code != 200:\n",
    "        print(f\"ページ {page} の取得が終了しました。\")\n",
    "        break\n",
    "    # 取得結果を解析してsoupに格納\n",
    "    soup = BeautifulSoup(response.text, 'html.parser')\n",
    "    # cassetteitemクラスを持つdivタグを全て取得\n",
    "    property_elements = soup.find_all('div', class_='cassetteitem')\n",
    "    # 各物件情報をforループで取得する\n",
    "    for property_element in property_elements:\n",
    "        # 物件・建物物件を取得し、変数property_detailに格納する\n",
    "        property_detail = property_element.find('div', class_=\"cassetteitem-detail\")\n",
    "        # 各部屋の情報を取得し、変数property_tableに格納する\n",
    "        property_table = property_element.find('table', class_='cassetteitem_other')\n",
    "        # 物件名を取得し、変数titleに格納する\n",
    "        title = property_detail.find('div', class_='cassetteitem_content-title').text.strip()\n",
    "        # 住所を取得し、変数addressに格納する\n",
    "        address = property_detail.find('li', class_='cassetteitem_detail-col1').text.strip()\n",
    "        # アクセス情報を取得し、変数accessに格納する\n",
    "        access = property_detail.find('li', class_='cassetteitem_detail-col2').text.strip()\n",
    "        # 築年数を取得し、変数ageに格納する\n",
    "        age = property_detail.find('li', class_='cassetteitem_detail-col3').text.strip()\n",
    "        # 部屋情報のブロックから、各部屋情報を取得する\n",
    "        room_elements = property_table.find_all('tr', class_='js-cassette_link')\n",
    "        # 各部屋情報をforループで取得する\n",
    "        for room_element in room_elements:\n",
    "            # 部屋情報の行から、必要な情報を取得する\n",
    "            floor, price, first_fee, capacity = room_element.find_all('td')[2:6]\n",
    "            # さらに細かい情報を取得する\n",
    "            fee, management_fee = price.find_all('li')\n",
    "            deposit, gratuity = first_fee.find_all('li')\n",
    "            floor_plan, area = capacity.find_all('li')\n",
    "            # 取得した情報を辞書に格納する\n",
    "            property_data = {\n",
    "                'title': title, # 物件名\n",
    "                'address': address, # 住所\n",
    "                'access': access, # アクセス情報\n",
    "                'age': age, # 築年数\n",
    "                'floor': floor.text.strip(), # 階数\n",
    "                'fee': fee.text.strip(), # 家賃\n",
    "                'management_fee': management_fee.text.strip(), # 管理費\n",
    "                'deposit': deposit.text.strip(), # 敷金\n",
    "                'gratuity': gratuity.text.strip(), # 礼金\n",
    "                'floor_plan': floor_plan.text.strip(), # 間取り\n",
    "                'area': area.text.strip() # 面積\n",
    "            }\n",
    "            # 取得した辞書をリストに追加する\n",
    "            data_list.append(property_data)\n",
    "\n",
    "# データフレームの作成\n",
    "property_df = pd.DataFrame(data_list)"
   ]
  },
  {
   "cell_type": "code",
   "execution_count": 4,
   "metadata": {},
   "outputs": [
    {
     "name": "stdout",
     "output_type": "stream",
     "text": [
      "全ページの情報を取得し、suumo_data.csvに保存しました。\n"
     ]
    }
   ],
   "source": [
    "# CSVファイルに出力\n",
    "property_df.to_csv('suumo_data.csv', index=False, encoding='utf-8-sig')\n",
    "\n",
    "print(\"全ページの情報を取得し、suumo_data.csvに保存しました。\")"
   ]
  }
 ],
 "metadata": {
  "kernelspec": {
   "display_name": "base",
   "language": "python",
   "name": "python3"
  },
  "language_info": {
   "codemirror_mode": {
    "name": "ipython",
    "version": 3
   },
   "file_extension": ".py",
   "mimetype": "text/x-python",
   "name": "python",
   "nbconvert_exporter": "python",
   "pygments_lexer": "ipython3",
   "version": "3.11.3"
  }
 },
 "nbformat": 4,
 "nbformat_minor": 2
}
